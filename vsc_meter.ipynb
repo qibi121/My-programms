{
 "cells": [
  {
   "cell_type": "code",
   "execution_count": 2,
   "id": "e9c18f47-6224-401a-a4d7-b4bf237c0f43",
   "metadata": {
    "tags": []
   },
   "outputs": [],
   "source": [
    "import numpy as np \n",
    "import pandas as pd\n",
    "import os"
   ]
  },
  {
   "cell_type": "code",
   "execution_count": 3,
   "id": "b5ebf817-8f0d-4f3e-8a6a-02172c88516e",
   "metadata": {
    "tags": []
   },
   "outputs": [],
   "source": [
    "path = r\"C:\\Users\\avpet\\OneDrive\\Рабочий стол\\vsc\\TFEtdiolAc\"\n",
    "B=[]\n",
    "for el in os.walk(path):\n",
    "    B.append(el)"
   ]
  },
  {
   "cell_type": "code",
   "execution_count": 4,
   "id": "a7b46432-30bf-4fa3-ab4f-c60d24570927",
   "metadata": {
    "tags": []
   },
   "outputs": [
    {
     "ename": "NameError",
     "evalue": "name 'vsc' is not defined",
     "output_type": "error",
     "traceback": [
      "\u001b[1;31m---------------------------------------------------------------------------\u001b[0m",
      "\u001b[1;31mNameError\u001b[0m                                 Traceback (most recent call last)",
      "Cell \u001b[1;32mIn[4], line 4\u001b[0m\n\u001b[0;32m      2\u001b[0m \u001b[38;5;28;01mfor\u001b[39;00m i \u001b[38;5;129;01min\u001b[39;00m B[\u001b[38;5;241m0\u001b[39m][\u001b[38;5;241m2\u001b[39m]:\n\u001b[0;32m      3\u001b[0m     d \u001b[38;5;241m=\u001b[39m pd\u001b[38;5;241m.\u001b[39mread_csv(path\u001b[38;5;241m+\u001b[39m\u001b[38;5;124m'\u001b[39m\u001b[38;5;124m/\u001b[39m\u001b[38;5;124m'\u001b[39m\u001b[38;5;241m+\u001b[39mi)\n\u001b[1;32m----> 4\u001b[0m     f\u001b[38;5;241m.\u001b[39mappend(vsc(d))\n\u001b[0;32m      5\u001b[0m df \u001b[38;5;241m=\u001b[39m pd\u001b[38;5;241m.\u001b[39mDataFrame(f)\n\u001b[0;32m      6\u001b[0m B[\u001b[38;5;241m0\u001b[39m][\u001b[38;5;241m2\u001b[39m]\n",
      "\u001b[1;31mNameError\u001b[0m: name 'vsc' is not defined"
     ]
    }
   ],
   "source": [
    "f=[]\n",
    "for i in B[0][2]:\n",
    "    d = pd.read_csv(path+'/'+i)\n",
    "    f.append(vsc(d))\n",
    "df = pd.DataFrame(f)\n",
    "B[0][2]"
   ]
  },
  {
   "cell_type": "code",
   "execution_count": 5,
   "id": "c0cbf138-3550-4c15-84fa-b594653132b1",
   "metadata": {
    "tags": []
   },
   "outputs": [
    {
     "data": {
      "text/html": [
       "<div>\n",
       "<style scoped>\n",
       "    .dataframe tbody tr th:only-of-type {\n",
       "        vertical-align: middle;\n",
       "    }\n",
       "\n",
       "    .dataframe tbody tr th {\n",
       "        vertical-align: top;\n",
       "    }\n",
       "\n",
       "    .dataframe thead th {\n",
       "        text-align: right;\n",
       "    }\n",
       "</style>\n",
       "<table border=\"1\" class=\"dataframe\">\n",
       "  <thead>\n",
       "    <tr style=\"text-align: right;\">\n",
       "      <th></th>\n",
       "      <th>Measurement date: 02/Mar/2024  16:08:45</th>\n",
       "    </tr>\n",
       "  </thead>\n",
       "  <tbody>\n",
       "    <tr>\n",
       "      <th>0</th>\n",
       "      <td>Viscosity[mPa s]: 1.87</td>\n",
       "    </tr>\n",
       "    <tr>\n",
       "      <th>1</th>\n",
       "      <td>Rotation frequency of sphere[rpm]: 417</td>\n",
       "    </tr>\n",
       "    <tr>\n",
       "      <th>2</th>\n",
       "      <td>Temperature[deg.C]: 25.02</td>\n",
       "    </tr>\n",
       "    <tr>\n",
       "      <th>3</th>\n",
       "      <td>Motor rotation speed[rpm]: 500</td>\n",
       "    </tr>\n",
       "    <tr>\n",
       "      <th>4</th>\n",
       "      <td>Measurement time:    I   1s</td>\n",
       "    </tr>\n",
       "    <tr>\n",
       "      <th>5</th>\n",
       "      <td>Sphere: Al-2mm</td>\n",
       "    </tr>\n",
       "  </tbody>\n",
       "</table>\n",
       "</div>"
      ],
      "text/plain": [
       "  Measurement date: 02/Mar/2024  16:08:45\n",
       "0                  Viscosity[mPa s]: 1.87\n",
       "1  Rotation frequency of sphere[rpm]: 417\n",
       "2               Temperature[deg.C]: 25.02\n",
       "3          Motor rotation speed[rpm]: 500\n",
       "4             Measurement time:    I   1s\n",
       "5                          Sphere: Al-2mm"
      ]
     },
     "execution_count": 5,
     "metadata": {},
     "output_type": "execute_result"
    }
   ],
   "source": [
    "d"
   ]
  },
  {
   "cell_type": "code",
   "execution_count": 9,
   "id": "bdd289e3-9106-4dbc-8072-18a12a0edd55",
   "metadata": {
    "tags": []
   },
   "outputs": [],
   "source": [
    "def vsc(vsc_data_frame):\n",
    "    return float(vsc_data_frame.iat[0,0].split()[2])\n",
    "def read_vsc_results(path,Name):\n",
    "    C =[]\n",
    "    f=[]\n",
    "    for el in os.walk(path):\n",
    "        C.append(el)\n",
    "    for i in C[0][2]:\n",
    "        d = pd.read_csv(path+'/'+i)\n",
    "        if str(vsc(d)) != \"---\":\n",
    "                f.append(vsc(d))\n",
    "        else:\n",
    "            break\n",
    "    df = pd.DataFrame(f)\n",
    "    df.to_csv(Name+'.csv',index=False,) "
   ]
  },
  {
   "cell_type": "code",
   "execution_count": 16,
   "id": "e0388f80-a4f1-46a2-81d5-b7c4911599a3",
   "metadata": {
    "tags": []
   },
   "outputs": [],
   "source": [
    "read_vsc_results(r\"C:\\Users\\avpet\\OneDrive\\Рабочий стол\\vsc\\TFEtdiolAc-FEC_LPF_1\",\"TFEtdiolAc-FEC_LPF_1\")"
   ]
  },
  {
   "cell_type": "code",
   "execution_count": 94,
   "id": "8c0e5106-1fce-4849-a1a9-cc6e68d95542",
   "metadata": {},
   "outputs": [
    {
     "ename": "SyntaxError",
     "evalue": "(unicode error) 'unicodeescape' codec can't decode bytes in position 2-3: truncated \\UXXXXXXXX escape (Temp/ipykernel_27480/2458084758.py, line 1)",
     "output_type": "error",
     "traceback": [
      "\u001b[1;36m  File \u001b[1;32m\"C:\\Users\\greng\\AppData\\Local\\Temp/ipykernel_27480/2458084758.py\"\u001b[1;36m, line \u001b[1;32m1\u001b[0m\n\u001b[1;33m    pth = 'C:\\Users\\greng\\OneDrive\\Рабочий стол\\28.04\\EMS\\TFEO'\u001b[0m\n\u001b[1;37m                                                               ^\u001b[0m\n\u001b[1;31mSyntaxError\u001b[0m\u001b[1;31m:\u001b[0m (unicode error) 'unicodeescape' codec can't decode bytes in position 2-3: truncated \\UXXXXXXXX escape\n"
     ]
    }
   ],
   "source": []
  },
  {
   "cell_type": "code",
   "execution_count": null,
   "id": "8875a3b8-8c92-437e-bdf3-0c6b1a21188b",
   "metadata": {},
   "outputs": [],
   "source": []
  }
 ],
 "metadata": {
  "kernelspec": {
   "display_name": "Python 3 (ipykernel)",
   "language": "python",
   "name": "python3"
  },
  "language_info": {
   "codemirror_mode": {
    "name": "ipython",
    "version": 3
   },
   "file_extension": ".py",
   "mimetype": "text/x-python",
   "name": "python",
   "nbconvert_exporter": "python",
   "pygments_lexer": "ipython3",
   "version": "3.11.5"
  }
 },
 "nbformat": 4,
 "nbformat_minor": 5
}
